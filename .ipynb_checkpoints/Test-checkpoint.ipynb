{
 "cells": [
  {
   "cell_type": "code",
   "execution_count": 1,
   "id": "29d61908-8b1b-4a65-a660-91254e08e6d4",
   "metadata": {},
   "outputs": [],
   "source": [
    "from ml_from_scratch.neighbors import KNeighborsClassifier\n",
    "import numpy as np\n",
    "import matplotlib.pyplot as plt\n",
    "import pandas as pd\n",
    "from sklearn.model_selection import train_test_split\n",
    "from sklearn.preprocessing import StandardScaler\n"
   ]
  },
  {
   "cell_type": "code",
   "execution_count": 2,
   "id": "6582fdd4-1ecb-414e-b709-c4d4142a19b8",
   "metadata": {},
   "outputs": [],
   "source": [
    "data = pd.read_csv('iris.csv')"
   ]
  },
  {
   "cell_type": "code",
   "execution_count": 3,
   "id": "945ca867-f6e7-4988-9c53-fac01be242a9",
   "metadata": {},
   "outputs": [
    {
     "data": {
      "text/html": [
       "<div>\n",
       "<style scoped>\n",
       "    .dataframe tbody tr th:only-of-type {\n",
       "        vertical-align: middle;\n",
       "    }\n",
       "\n",
       "    .dataframe tbody tr th {\n",
       "        vertical-align: top;\n",
       "    }\n",
       "\n",
       "    .dataframe thead th {\n",
       "        text-align: right;\n",
       "    }\n",
       "</style>\n",
       "<table border=\"1\" class=\"dataframe\">\n",
       "  <thead>\n",
       "    <tr style=\"text-align: right;\">\n",
       "      <th></th>\n",
       "      <th>sepal.length</th>\n",
       "      <th>sepal.width</th>\n",
       "      <th>petal.length</th>\n",
       "      <th>petal.width</th>\n",
       "      <th>variety</th>\n",
       "    </tr>\n",
       "  </thead>\n",
       "  <tbody>\n",
       "    <tr>\n",
       "      <th>0</th>\n",
       "      <td>5.1</td>\n",
       "      <td>3.5</td>\n",
       "      <td>1.4</td>\n",
       "      <td>0.2</td>\n",
       "      <td>Setosa</td>\n",
       "    </tr>\n",
       "    <tr>\n",
       "      <th>1</th>\n",
       "      <td>4.9</td>\n",
       "      <td>3.0</td>\n",
       "      <td>1.4</td>\n",
       "      <td>0.2</td>\n",
       "      <td>Setosa</td>\n",
       "    </tr>\n",
       "    <tr>\n",
       "      <th>2</th>\n",
       "      <td>4.7</td>\n",
       "      <td>3.2</td>\n",
       "      <td>1.3</td>\n",
       "      <td>0.2</td>\n",
       "      <td>Setosa</td>\n",
       "    </tr>\n",
       "    <tr>\n",
       "      <th>3</th>\n",
       "      <td>4.6</td>\n",
       "      <td>3.1</td>\n",
       "      <td>1.5</td>\n",
       "      <td>0.2</td>\n",
       "      <td>Setosa</td>\n",
       "    </tr>\n",
       "    <tr>\n",
       "      <th>4</th>\n",
       "      <td>5.0</td>\n",
       "      <td>3.6</td>\n",
       "      <td>1.4</td>\n",
       "      <td>0.2</td>\n",
       "      <td>Setosa</td>\n",
       "    </tr>\n",
       "  </tbody>\n",
       "</table>\n",
       "</div>"
      ],
      "text/plain": [
       "   sepal.length  sepal.width  petal.length  petal.width variety\n",
       "0           5.1          3.5           1.4          0.2  Setosa\n",
       "1           4.9          3.0           1.4          0.2  Setosa\n",
       "2           4.7          3.2           1.3          0.2  Setosa\n",
       "3           4.6          3.1           1.5          0.2  Setosa\n",
       "4           5.0          3.6           1.4          0.2  Setosa"
      ]
     },
     "execution_count": 3,
     "metadata": {},
     "output_type": "execute_result"
    }
   ],
   "source": [
    "data.head()"
   ]
  },
  {
   "cell_type": "code",
   "execution_count": 4,
   "id": "9973737b-4c69-436f-bac0-e82f544e4c70",
   "metadata": {},
   "outputs": [],
   "source": [
    "X = data.drop('variety', axis = 1)"
   ]
  },
  {
   "cell_type": "code",
   "execution_count": 5,
   "id": "2bd47b9f-4494-444b-ba92-9408fe759c75",
   "metadata": {},
   "outputs": [],
   "source": [
    "y = data['variety']"
   ]
  },
  {
   "cell_type": "code",
   "execution_count": 6,
   "id": "a906341c-e206-4123-928b-8eaeca2007fa",
   "metadata": {},
   "outputs": [
    {
     "data": {
      "text/plain": [
       "0    Setosa\n",
       "1    Setosa\n",
       "2    Setosa\n",
       "3    Setosa\n",
       "4    Setosa\n",
       "Name: variety, dtype: object"
      ]
     },
     "execution_count": 6,
     "metadata": {},
     "output_type": "execute_result"
    }
   ],
   "source": [
    "y.head()"
   ]
  },
  {
   "cell_type": "code",
   "execution_count": 7,
   "id": "251001cd-4727-4b26-9ce4-329b42baecb1",
   "metadata": {},
   "outputs": [],
   "source": [
    "X_train, X_test, y_train, y_test = train_test_split(X, y, test_size=0.2)"
   ]
  },
  {
   "cell_type": "code",
   "execution_count": 8,
   "id": "9fbd612a-8750-42e4-ada1-feebf8a8ca5b",
   "metadata": {},
   "outputs": [
    {
     "data": {
      "text/html": [
       "<div>\n",
       "<style scoped>\n",
       "    .dataframe tbody tr th:only-of-type {\n",
       "        vertical-align: middle;\n",
       "    }\n",
       "\n",
       "    .dataframe tbody tr th {\n",
       "        vertical-align: top;\n",
       "    }\n",
       "\n",
       "    .dataframe thead th {\n",
       "        text-align: right;\n",
       "    }\n",
       "</style>\n",
       "<table border=\"1\" class=\"dataframe\">\n",
       "  <thead>\n",
       "    <tr style=\"text-align: right;\">\n",
       "      <th></th>\n",
       "      <th>sepal.length</th>\n",
       "      <th>sepal.width</th>\n",
       "      <th>petal.length</th>\n",
       "      <th>petal.width</th>\n",
       "    </tr>\n",
       "  </thead>\n",
       "  <tbody>\n",
       "    <tr>\n",
       "      <th>143</th>\n",
       "      <td>6.8</td>\n",
       "      <td>3.2</td>\n",
       "      <td>5.9</td>\n",
       "      <td>2.3</td>\n",
       "    </tr>\n",
       "    <tr>\n",
       "      <th>22</th>\n",
       "      <td>4.6</td>\n",
       "      <td>3.6</td>\n",
       "      <td>1.0</td>\n",
       "      <td>0.2</td>\n",
       "    </tr>\n",
       "    <tr>\n",
       "      <th>97</th>\n",
       "      <td>6.2</td>\n",
       "      <td>2.9</td>\n",
       "      <td>4.3</td>\n",
       "      <td>1.3</td>\n",
       "    </tr>\n",
       "    <tr>\n",
       "      <th>108</th>\n",
       "      <td>6.7</td>\n",
       "      <td>2.5</td>\n",
       "      <td>5.8</td>\n",
       "      <td>1.8</td>\n",
       "    </tr>\n",
       "    <tr>\n",
       "      <th>25</th>\n",
       "      <td>5.0</td>\n",
       "      <td>3.0</td>\n",
       "      <td>1.6</td>\n",
       "      <td>0.2</td>\n",
       "    </tr>\n",
       "    <tr>\n",
       "      <th>...</th>\n",
       "      <td>...</td>\n",
       "      <td>...</td>\n",
       "      <td>...</td>\n",
       "      <td>...</td>\n",
       "    </tr>\n",
       "    <tr>\n",
       "      <th>83</th>\n",
       "      <td>6.0</td>\n",
       "      <td>2.7</td>\n",
       "      <td>5.1</td>\n",
       "      <td>1.6</td>\n",
       "    </tr>\n",
       "    <tr>\n",
       "      <th>126</th>\n",
       "      <td>6.2</td>\n",
       "      <td>2.8</td>\n",
       "      <td>4.8</td>\n",
       "      <td>1.8</td>\n",
       "    </tr>\n",
       "    <tr>\n",
       "      <th>15</th>\n",
       "      <td>5.7</td>\n",
       "      <td>4.4</td>\n",
       "      <td>1.5</td>\n",
       "      <td>0.4</td>\n",
       "    </tr>\n",
       "    <tr>\n",
       "      <th>5</th>\n",
       "      <td>5.4</td>\n",
       "      <td>3.9</td>\n",
       "      <td>1.7</td>\n",
       "      <td>0.4</td>\n",
       "    </tr>\n",
       "    <tr>\n",
       "      <th>48</th>\n",
       "      <td>5.3</td>\n",
       "      <td>3.7</td>\n",
       "      <td>1.5</td>\n",
       "      <td>0.2</td>\n",
       "    </tr>\n",
       "  </tbody>\n",
       "</table>\n",
       "<p>120 rows × 4 columns</p>\n",
       "</div>"
      ],
      "text/plain": [
       "     sepal.length  sepal.width  petal.length  petal.width\n",
       "143           6.8          3.2           5.9          2.3\n",
       "22            4.6          3.6           1.0          0.2\n",
       "97            6.2          2.9           4.3          1.3\n",
       "108           6.7          2.5           5.8          1.8\n",
       "25            5.0          3.0           1.6          0.2\n",
       "..            ...          ...           ...          ...\n",
       "83            6.0          2.7           5.1          1.6\n",
       "126           6.2          2.8           4.8          1.8\n",
       "15            5.7          4.4           1.5          0.4\n",
       "5             5.4          3.9           1.7          0.4\n",
       "48            5.3          3.7           1.5          0.2\n",
       "\n",
       "[120 rows x 4 columns]"
      ]
     },
     "execution_count": 8,
     "metadata": {},
     "output_type": "execute_result"
    }
   ],
   "source": [
    "X_train"
   ]
  },
  {
   "cell_type": "code",
   "execution_count": 9,
   "id": "07d748f7-efef-4d84-bd99-9f75b1f9ad4d",
   "metadata": {},
   "outputs": [],
   "source": [
    "ss = StandardScaler().fit(X_train)\n",
    "X_train, X_test = ss.transform(X_train), ss.transform(X_test)"
   ]
  },
  {
   "cell_type": "code",
   "execution_count": 10,
   "id": "2c73a23d-52df-4eae-97ea-fe9a8c186ada",
   "metadata": {},
   "outputs": [],
   "source": [
    "knn = KNeighborsClassifier()"
   ]
  },
  {
   "cell_type": "code",
   "execution_count": 11,
   "id": "69f1caea-24d8-4b30-b04d-bcc4c7ed8709",
   "metadata": {},
   "outputs": [],
   "source": [
    "knn.fit(X_train, y_train)"
   ]
  },
  {
   "cell_type": "code",
   "execution_count": 12,
   "id": "80feb9fa-b775-4b17-83fd-26b3e2362f5e",
   "metadata": {},
   "outputs": [
    {
     "name": "stdout",
     "output_type": "stream",
     "text": [
      "[['Versicolor', 'Versicolor', 'Versicolor', 'Versicolor', 'Versicolor'], ['Setosa', 'Setosa', 'Setosa', 'Setosa', 'Setosa'], ['Setosa', 'Setosa', 'Setosa', 'Setosa', 'Setosa'], ['Setosa', 'Setosa', 'Setosa', 'Setosa', 'Setosa'], ['Virginica', 'Virginica', 'Virginica', 'Virginica', 'Virginica'], ['Setosa', 'Setosa', 'Setosa', 'Setosa', 'Setosa'], ['Versicolor', 'Versicolor', 'Versicolor', 'Versicolor', 'Versicolor'], ['Virginica', 'Virginica', 'Virginica', 'Virginica', 'Virginica'], ['Setosa', 'Setosa', 'Setosa', 'Setosa', 'Setosa'], ['Setosa', 'Setosa', 'Setosa', 'Setosa', 'Setosa'], ['Versicolor', 'Versicolor', 'Versicolor', 'Versicolor', 'Versicolor'], ['Setosa', 'Setosa', 'Setosa', 'Setosa', 'Setosa'], ['Setosa', 'Setosa', 'Setosa', 'Setosa', 'Setosa'], ['Setosa', 'Setosa', 'Setosa', 'Setosa', 'Setosa'], ['Virginica', 'Virginica', 'Virginica', 'Versicolor', 'Virginica'], ['Virginica', 'Virginica', 'Virginica', 'Virginica', 'Virginica'], ['Virginica', 'Virginica', 'Virginica', 'Versicolor', 'Virginica'], ['Virginica', 'Virginica', 'Virginica', 'Virginica', 'Virginica'], ['Setosa', 'Setosa', 'Setosa', 'Setosa', 'Setosa'], ['Versicolor', 'Versicolor', 'Versicolor', 'Versicolor', 'Versicolor'], ['Setosa', 'Setosa', 'Setosa', 'Setosa', 'Setosa'], ['Virginica', 'Virginica', 'Virginica', 'Virginica', 'Virginica'], ['Versicolor', 'Versicolor', 'Versicolor', 'Versicolor', 'Versicolor'], ['Setosa', 'Setosa', 'Setosa', 'Setosa', 'Setosa'], ['Versicolor', 'Virginica', 'Versicolor', 'Versicolor', 'Versicolor'], ['Virginica', 'Virginica', 'Virginica', 'Virginica', 'Virginica'], ['Versicolor', 'Versicolor', 'Versicolor', 'Versicolor', 'Versicolor'], ['Virginica', 'Versicolor', 'Virginica', 'Versicolor', 'Virginica'], ['Setosa', 'Setosa', 'Setosa', 'Setosa', 'Setosa'], ['Virginica', 'Versicolor', 'Versicolor', 'Virginica', 'Virginica']]\n"
     ]
    }
   ],
   "source": [
    "neighbors = knn.predict(X_test)"
   ]
  }
 ],
 "metadata": {
  "kernelspec": {
   "display_name": "Python 3 (ipykernel)",
   "language": "python",
   "name": "python3"
  },
  "language_info": {
   "codemirror_mode": {
    "name": "ipython",
    "version": 3
   },
   "file_extension": ".py",
   "mimetype": "text/x-python",
   "name": "python",
   "nbconvert_exporter": "python",
   "pygments_lexer": "ipython3",
   "version": "3.10.13"
  }
 },
 "nbformat": 4,
 "nbformat_minor": 5
}
